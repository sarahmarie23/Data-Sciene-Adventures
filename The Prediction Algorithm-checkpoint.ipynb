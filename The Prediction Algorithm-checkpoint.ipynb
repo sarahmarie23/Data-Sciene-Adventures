{
 "cells": [
  {
   "cell_type": "markdown",
   "id": "8a0dd847",
   "metadata": {},
   "source": [
    "# Bring in the results of running the SPMF algorithm\n",
    "# This becomes the training data (first 75%; we can test different percents)"
   ]
  },
  {
   "cell_type": "code",
   "execution_count": 225,
   "id": "a605333b",
   "metadata": {},
   "outputs": [],
   "source": [
    "reader = open(r\"C:\\Users\\User\\Desktop\\Device1_train_output.txt\")\n",
    "training = reader.read().splitlines()\n",
    "reader.close()"
   ]
  },
  {
   "cell_type": "code",
   "execution_count": 226,
   "id": "2afa924f",
   "metadata": {},
   "outputs": [
    {
     "data": {
      "text/plain": [
       "['1 ==> 14 #SUP: 25 #CONF: 0.52',\n",
       " '11 ==> 14 #SUP: 68 #CONF: 0.5',\n",
       " '40 ==> 14 #SUP: 21 #CONF: 0.5714',\n",
       " '52 ==> 3 #SUP: 8 #CONF: 0.5',\n",
       " '52 ==> 3 6 #SUP: 8 #CONF: 0.5',\n",
       " '52 ==> 6 #SUP: 8 #CONF: 0.5',\n",
       " '52 ==> 12 #SUP: 8 #CONF: 0.625',\n",
       " '52 ==> 12 52 #SUP: 8 #CONF: 0.5',\n",
       " '52 ==> 12 53 #SUP: 8 #CONF: 0.5',\n",
       " '52 ==> 12 27 #SUP: 8 #CONF: 0.5']"
      ]
     },
     "execution_count": 226,
     "metadata": {},
     "output_type": "execute_result"
    }
   ],
   "source": [
    "training[:10]"
   ]
  },
  {
   "cell_type": "markdown",
   "id": "9b5d436c",
   "metadata": {},
   "source": [
    "# Separate the data in this file"
   ]
  },
  {
   "cell_type": "code",
   "execution_count": 227,
   "id": "13375fcf",
   "metadata": {},
   "outputs": [],
   "source": [
    "prefix_list = [] \n",
    "suffix_list = [] \n",
    "support_list = [] \n",
    "confidence_list = []\n",
    "\n",
    "for row in training:\n",
    "    left, right = row.split(' ==> ')\n",
    "    left_list = left.split()\n",
    "    list_of_ints = list(map(int, left_list))\n",
    "    prefix_list.append(list_of_ints)\n",
    "    \n",
    "    left, right = right.split(' #SUP: ')\n",
    "    left_list = left.split()\n",
    "    list_of_ints = list(map(int, left_list))\n",
    "    suffix_list.append(list_of_ints)\n",
    "    \n",
    "    left, right = right.split(' #CONF: ')\n",
    "    support_list.append(int(left))\n",
    "    \n",
    "    confidence_list.append(float(right))"
   ]
  },
  {
   "cell_type": "markdown",
   "id": "d423fe12",
   "metadata": {},
   "source": [
    "# The testing data is just the events because we are using a sliding window to see if the rules fall within that window"
   ]
  },
  {
   "cell_type": "code",
   "execution_count": 228,
   "id": "ad6d72fe",
   "metadata": {},
   "outputs": [],
   "source": [
    "reader = open(r\"C:\\Users\\User\\Desktop\\My Test Files\\split_by_user_30_days\\device1_test_just_actions.txt\")\n",
    "testing = reader.read().splitlines()\n",
    "reader.close()"
   ]
  },
  {
   "cell_type": "markdown",
   "id": "a54c0272",
   "metadata": {},
   "source": [
    "# P is the list of the sequence of actions, separated into sublists the size of the sliding window. Actions with more than one item need to be separated into a list of ints"
   ]
  },
  {
   "cell_type": "code",
   "execution_count": 229,
   "id": "6d5a754d",
   "metadata": {},
   "outputs": [
    {
     "data": {
      "text/plain": [
       "[[[14], [14], [14]],\n",
       " [[14], [14], [14]],\n",
       " [[14], [14], [14]],\n",
       " [[14], [14], [20, 21]],\n",
       " [[14], [20, 21], [22, 23]],\n",
       " [[20, 21], [22, 23], [14]],\n",
       " [[22, 23], [14], [24]],\n",
       " [[14], [24], [14]],\n",
       " [[24], [14], [20, 21]],\n",
       " [[14], [20, 21], [22]]]"
      ]
     },
     "execution_count": 229,
     "metadata": {},
     "output_type": "execute_result"
    }
   ],
   "source": [
    "winlen = 3\n",
    "P = []\n",
    "\n",
    "for x in range(len(testing)):\n",
    "    b = testing[x].split(',')\n",
    "    c = map(int, b)\n",
    "    d = list(c)\n",
    "    testing[x] = d\n",
    "    \n",
    "for x in range(0, len(testing) - winlen):\n",
    "    P.append(testing[x:winlen+x])\n",
    "\n",
    "P[:10]    "
   ]
  }
 ],
 "metadata": {
  "kernelspec": {
   "display_name": "Python 3 (ipykernel)",
   "language": "python",
   "name": "python3"
  },
  "language_info": {
   "codemirror_mode": {
    "name": "ipython",
    "version": 3
   },
   "file_extension": ".py",
   "mimetype": "text/x-python",
   "name": "python",
   "nbconvert_exporter": "python",
   "pygments_lexer": "ipython3",
   "version": "3.10.5"
  }
 },
 "nbformat": 4,
 "nbformat_minor": 5
}
